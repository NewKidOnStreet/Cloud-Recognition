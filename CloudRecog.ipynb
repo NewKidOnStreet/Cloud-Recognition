{
 "cells": [
  {
   "cell_type": "code",
   "execution_count": 79,
   "metadata": {},
   "outputs": [],
   "source": [
    "\n",
    "import os\n",
    "\n",
    "import cv2\n",
    "import numpy as np\n",
    "from sklearn import cluster\n",
    "from sklearn.neural_network import MLPClassifier\n",
    "from sklearn.cluster import KMeans\n",
    "from sklearn.cluster import MiniBatchKMeans\n",
    "\n",
    "from matplotlib import pyplot as plt"
   ]
  },
  {
   "cell_type": "code",
   "execution_count": 3,
   "metadata": {},
   "outputs": [],
   "source": [
    "def gabor_fn(sigma, theta, Lambda, psi, gamma):\n",
    "    sigma_x = sigma\n",
    "    sigma_y = float(sigma) / gamma\n",
    "\n",
    "    # Bounding box\n",
    "    nstds = 3 # Number of standard deviation sigma\n",
    "    xmax = max(abs(nstds * sigma_x * np.cos(theta)), abs(nstds * sigma_y * np.sin(theta)))\n",
    "    xmax = np.ceil(max(1, xmax))\n",
    "    ymax = max(abs(nstds * sigma_x * np.sin(theta)), abs(nstds * sigma_y * np.cos(theta)))\n",
    "    ymax = np.ceil(max(1, ymax))\n",
    "    xmin = -xmax\n",
    "    ymin = -ymax\n",
    "    (y, x) = np.meshgrid(np.arange(ymin, ymax + 1), np.arange(xmin, xmax + 1))\n",
    "\n",
    "    # Rotation \n",
    "    x_theta = x * np.cos(theta) + y * np.sin(theta)\n",
    "    y_theta = -x * np.sin(theta) + y * np.cos(theta)\n",
    "\n",
    "    gb = np.exp(-.5 * (x_theta ** 2 / sigma_x ** 2 + y_theta ** 2 / sigma_y ** 2)) * np.cos(2 * np.pi / Lambda * x_theta + psi)\n",
    "    return gb\n",
    "\n",
    "def scale_minmax(img):\n",
    "    return (img - np.min(img))/(np.max(img) - np.min(img))"
   ]
  },
  {
   "cell_type": "code",
   "execution_count": 4,
   "metadata": {},
   "outputs": [],
   "source": [
    "sample_percent = 0.1\n",
    "sample_size = 5\n",
    "\n",
    "# Path leading to all cloud data\n",
    "path = \"C:\\\\Users\\\\peter\\\\Documents\\\\Cloud Project\\\\Data\\\\swimcat\\\\\"\n",
    "cloud_types = [\"A-sky\",\"B-pattern\",\"C-thick-dark\",\"D-thick-white\",\"E-veil\"]\n",
    "\n",
    "# initializing dict to store randomly n selected training images \n",
    "train_set = {}\n",
    "\n",
    "# Iterating over cloud types \n",
    "for ctype in cloud_types:\n",
    "    fin = path + ctype +\"\\\\images\\\\\"\n",
    "    \n",
    "    # Reading all images of cloud type ctype from path fin + ctype\n",
    "    allimgs = os.listdir(fin)\n",
    "    \n",
    "    # total number of images\n",
    "    n_imgs = len(allimgs)\n",
    "    \n",
    "    # number of images to select\n",
    "    n_sample = int(round(n_imgs*sample_percent,1))\n",
    "    \n",
    "    # shuffling list of images, slicing to get n images\n",
    "    samples = allimgs[:sample_size]\n",
    "    \n",
    "    # Note that np.random.shuffle changes in place (ugh)\n",
    "    np.random.shuffle(samples)\n",
    "    \n",
    "    # Dict key set to -> ctype, dict value -> samples\n",
    "    train_set[ctype] = samples.copy()\n",
    "    "
   ]
  },
  {
   "cell_type": "code",
   "execution_count": 49,
   "metadata": {},
   "outputs": [],
   "source": [
    "from datetime import datetime\n",
    "\n",
    "sparams = ((2,1),(4,1),(4,2),(6,1),(6,2),(6,3),(8,1),\n",
    "            (8,2),(8,3),(10,1),(10,2),(10,3),(10,4))\n",
    "\n",
    "gabor_keys = list(range(0,len(sparams)))\n",
    "response_dict = {}\n",
    "\n",
    "start = datetime.now()\n",
    "\n",
    "# Iterating over: cloud types, images of type, filter type\n",
    "# Temporarily stores responses in dict\n",
    "for ctype in cloud_types:    \n",
    "    for image in train_set[ctype]:\n",
    "        for key, param in zip(gabor_keys, sparams):\n",
    "#             print(key, param)\n",
    "            sfilter = gabor_fn(param[0],0,param[1],0,1)\n",
    "\n",
    "            imgpath = path + ctype + \"\\\\images\\\\\" + image\n",
    "\n",
    "            img = scale_minmax(cv2.imread(imgpath,1))[::,::,0]\n",
    "            output = np.reshape(scale_minmax(cv2.filter2D(img, -1, sfilter)),(125*125, 1))\n",
    "            \n",
    "            if key not in texton_dict.keys():\n",
    "                response_dict[key] = output\n",
    "            else:\n",
    "                response_dict[key] = np.append(texton_dict[key],output)\n",
    "\n",
    "# \n",
    "responses = np.zeros((img.shape[0]*img.shape[1]*sample_size*5,len(sparams)))\n",
    "\n",
    "keys = list(texton_dict.keys())\n",
    "for col, key in enumerate(keys):\n",
    "    responses[::,col] = texton_dict[key]\n"
   ]
  },
  {
   "cell_type": "code",
   "execution_count": 88,
   "metadata": {},
   "outputs": [],
   "source": [
    "import pickle\n",
    "kmeans_min = MiniBatchKMeans(n_clusters=30, random_state=0).fit(responses)\n",
    "with open('objs.pkl', 'wb') as f:  # Python 3: open(..., 'wb')\n",
    "    pickle.dump([kmeans_min], f)"
   ]
  },
  {
   "cell_type": "code",
   "execution_count": 89,
   "metadata": {},
   "outputs": [
    {
     "data": {
      "text/plain": [
       "KMeans(algorithm='auto', copy_x=True, init='k-means++', max_iter=300,\n",
       "    n_clusters=30, n_init=10, n_jobs=1, precompute_distances='auto',\n",
       "    random_state=0, tol=0.0001, verbose=0)"
      ]
     },
     "execution_count": 89,
     "metadata": {},
     "output_type": "execute_result"
    }
   ],
   "source": [
    "kmeans"
   ]
  },
  {
   "cell_type": "code",
   "execution_count": 90,
   "metadata": {},
   "outputs": [
    {
     "data": {
      "text/plain": [
       "array([[0.84505033, 0.87849689, 0.51630596, 0.8965107 , 0.5169073 ,\n",
       "        0.4880106 , 0.90847753, 0.51580634, 0.47980082, 0.91599786,\n",
       "        0.5154197 , 0.47887554, 0.48596015],\n",
       "       [0.16080009, 0.13195782, 0.32487698, 0.11753003, 0.27300028,\n",
       "        0.46535387, 0.11383696, 0.2519885 , 0.47817644, 0.11327448,\n",
       "        0.24155839, 0.47318858, 0.51321558],\n",
       "       [0.64598131, 0.66762715, 0.50573874, 0.68380049, 0.50583412,\n",
       "        0.68333425, 0.69952466, 0.5068038 , 0.70469007, 0.71286302,\n",
       "        0.50732312, 0.7104864 , 0.49142604],\n",
       "       [0.47548103, 0.47157217, 0.58979144, 0.48025358, 0.61830188,\n",
       "        0.31519721, 0.49215436, 0.62923456, 0.29157163, 0.50186515,\n",
       "        0.63765867, 0.28864811, 0.49893385],\n",
       "       [0.47368313, 0.47025714, 0.40256364, 0.47906066, 0.37516428,\n",
       "        0.33360647, 0.49073968, 0.35981184, 0.3120573 , 0.50016834,\n",
       "        0.35466328, 0.30923412, 0.49960017],\n",
       "       [0.1815231 , 0.1568551 , 0.58330235, 0.14439893, 0.60097676,\n",
       "        0.66802238, 0.14300872, 0.62117809, 0.70513627, 0.14498695,\n",
       "        0.63100323, 0.70669997, 0.5192136 ],\n",
       "       [0.29903774, 0.26940129, 0.40783798, 0.25991412, 0.38241157,\n",
       "        0.32609795, 0.26008192, 0.36719256, 0.30627886, 0.26074317,\n",
       "        0.36240255, 0.29985274, 0.50301431],\n",
       "       [0.1065706 , 0.08031475, 0.48663149, 0.06864977, 0.48106263,\n",
       "        0.51396679, 0.06647007, 0.4809504 , 0.51890373, 0.0664711 ,\n",
       "        0.48069295, 0.51115634, 0.51258224],\n",
       "       [0.50878433, 0.51678699, 0.50455273, 0.52889167, 0.50767623,\n",
       "        0.49933194, 0.5428741 , 0.50855308, 0.51253262, 0.55503347,\n",
       "        0.51111787, 0.52262714, 0.34709071],\n",
       "       [0.76305941, 0.79735533, 0.61655658, 0.82001846, 0.6365627 ,\n",
       "        0.3648155 , 0.83815999, 0.64379739, 0.34049697, 0.8512195 ,\n",
       "        0.64716049, 0.3353384 , 0.49906387],\n",
       "       [0.49493404, 0.5056465 , 0.61625655, 0.51608411, 0.63938319,\n",
       "        0.68429325, 0.52873198, 0.65267104, 0.71819429, 0.54080797,\n",
       "        0.66333288, 0.73278941, 0.49871951],\n",
       "       [0.59678026, 0.61239542, 0.65215175, 0.62783312, 0.67941886,\n",
       "        0.48943467, 0.64415865, 0.69339382, 0.49335782, 0.65826614,\n",
       "        0.70129448, 0.49786982, 0.49217402],\n",
       "       [0.17870422, 0.15411826, 0.39882862, 0.14138213, 0.37289199,\n",
       "        0.66936988, 0.13907796, 0.36497379, 0.70452334, 0.13998734,\n",
       "        0.35901234, 0.707323  , 0.51314408],\n",
       "       [0.38174393, 0.37147717, 0.48930672, 0.37267201, 0.48584603,\n",
       "        0.4602962 , 0.3798991 , 0.48292106, 0.46175716, 0.38665501,\n",
       "        0.48472029, 0.46566815, 0.51301931],\n",
       "       [0.30644724, 0.27594012, 0.57076538, 0.26626582, 0.59361958,\n",
       "        0.32733938, 0.26674686, 0.60603704, 0.30958892, 0.26767597,\n",
       "        0.61499045, 0.30506026, 0.49799129],\n",
       "       [0.37919217, 0.37090046, 0.32860533, 0.37229761, 0.28954804,\n",
       "        0.51538577, 0.37804636, 0.26799508, 0.52620304, 0.38373557,\n",
       "        0.2616931 , 0.53501336, 0.50467608],\n",
       "       [0.25041562, 0.22165734, 0.49005217, 0.20956196, 0.48668952,\n",
       "        0.49276002, 0.20835463, 0.48493772, 0.50261381, 0.20861842,\n",
       "        0.48599915, 0.50857559, 0.50430569],\n",
       "       [0.79293621, 0.82890061, 0.36654377, 0.84887306, 0.34668935,\n",
       "        0.58533743, 0.86407078, 0.33721515, 0.5914729 , 0.87511861,\n",
       "        0.33364714, 0.5956837 , 0.4989528 ],\n",
       "       [0.84288905, 0.87113495, 0.51184267, 0.88682577, 0.50768842,\n",
       "        0.68098105, 0.8969391 , 0.50858841, 0.69731594, 0.9023767 ,\n",
       "        0.50718691, 0.69588312, 0.48373526],\n",
       "       [0.16649165, 0.13470618, 0.64900244, 0.11949721, 0.69001598,\n",
       "        0.46067485, 0.11599609, 0.71727853, 0.47652718, 0.11542893,\n",
       "        0.73318184, 0.47342537, 0.51032091],\n",
       "       [0.49321743, 0.50366032, 0.39373316, 0.51449671, 0.37135733,\n",
       "        0.67037122, 0.52714794, 0.35881964, 0.70180344, 0.53877034,\n",
       "        0.35081467, 0.71639569, 0.49924007],\n",
       "       [0.38263764, 0.37405086, 0.65210929, 0.37590066, 0.68798489,\n",
       "        0.50844845, 0.38281387, 0.70682217, 0.51861108, 0.38955934,\n",
       "        0.71690569, 0.52629851, 0.50593141],\n",
       "       [0.52059876, 0.5286642 , 0.5065956 , 0.54072865, 0.50725515,\n",
       "        0.50450329, 0.55485789, 0.50686157, 0.50930497, 0.56706577,\n",
       "        0.50876253, 0.51612869, 0.63975408],\n",
       "       [0.68674619, 0.71024316, 0.51181087, 0.72736653, 0.5126627 ,\n",
       "        0.51459405, 0.74288593, 0.51133706, 0.50931053, 0.75588498,\n",
       "        0.51126957, 0.50831787, 0.49018462],\n",
       "       [0.14955324, 0.11319521, 0.48912096, 0.09672164, 0.48932142,\n",
       "        0.31197966, 0.09316493, 0.49029994, 0.29679786, 0.09166475,\n",
       "        0.49136359, 0.28930811, 0.51034315],\n",
       "       [0.77028294, 0.80589184, 0.40204999, 0.82858952, 0.38528648,\n",
       "        0.3699094 , 0.84595559, 0.37544945, 0.34372073, 0.85784748,\n",
       "        0.37272992, 0.33710198, 0.49451364],\n",
       "       [0.34256565, 0.34093591, 0.49589055, 0.34319562, 0.49560588,\n",
       "        0.66639537, 0.35073141, 0.49468816, 0.69089797, 0.35860713,\n",
       "        0.49628217, 0.69769896, 0.49970597],\n",
       "       [0.79628743, 0.83089826, 0.66745196, 0.84961402, 0.68877652,\n",
       "        0.59205421, 0.86421705, 0.69827584, 0.60508893, 0.87566637,\n",
       "        0.69980336, 0.60855227, 0.49402026],\n",
       "       [0.61798724, 0.63432504, 0.49927552, 0.65274712, 0.49804594,\n",
       "        0.34000556, 0.67074326, 0.49539146, 0.31223589, 0.68513633,\n",
       "        0.49550912, 0.30529252, 0.48620712],\n",
       "       [0.60361165, 0.6201437 , 0.35650858, 0.63586239, 0.33212969,\n",
       "        0.49739997, 0.65187207, 0.31705193, 0.49790665, 0.6652182 ,\n",
       "        0.31129509, 0.50019706, 0.49481087]])"
      ]
     },
     "execution_count": 90,
     "metadata": {},
     "output_type": "execute_result"
    }
   ],
   "source": [
    "texon_dict = {}\n",
    "\n",
    "for point in responses: \n",
    "    for cluster in kmeans.cluster_centers_:\n",
    "        \n",
    "\n"
   ]
  },
  {
   "cell_type": "code",
   "execution_count": null,
   "metadata": {},
   "outputs": [],
   "source": []
  },
  {
   "cell_type": "raw",
   "metadata": {},
   "source": []
  },
  {
   "cell_type": "code",
   "execution_count": null,
   "metadata": {},
   "outputs": [],
   "source": [
    "imgpath = \"C:\\\\Users\\peter\\Documents\\Cloud Project\\Data\\swimcat\\B-pattern\\images\\\\B_1img.png\"\n",
    "a = gabor_fn(1,0,1,0,1)\n",
    "img = scale_minmax(cv2.imread(imgpath,1))\n",
    "test = scale_minmax(cv2.filter2D(img, -1, a))\n",
    "plt.figure(1)\n",
    "plt.imshow(test)\n",
    "plt.figure(2)\n",
    "plt.imshow(a)"
   ]
  },
  {
   "cell_type": "code",
   "execution_count": null,
   "metadata": {},
   "outputs": [],
   "source": []
  },
  {
   "cell_type": "code",
   "execution_count": 93,
   "metadata": {},
   "outputs": [
    {
     "data": {
      "text/plain": [
       "(390625, 13)"
      ]
     },
     "execution_count": 93,
     "metadata": {},
     "output_type": "execute_result"
    }
   ],
   "source": [
    "responses.shape"
   ]
  },
  {
   "cell_type": "code",
   "execution_count": null,
   "metadata": {},
   "outputs": [],
   "source": []
  },
  {
   "cell_type": "code",
   "execution_count": null,
   "metadata": {},
   "outputs": [],
   "source": []
  },
  {
   "cell_type": "code",
   "execution_count": null,
   "metadata": {},
   "outputs": [],
   "source": []
  },
  {
   "cell_type": "code",
   "execution_count": null,
   "metadata": {},
   "outputs": [],
   "source": []
  },
  {
   "cell_type": "code",
   "execution_count": null,
   "metadata": {},
   "outputs": [],
   "source": []
  }
 ],
 "metadata": {
  "kernelspec": {
   "display_name": "Python 3",
   "language": "python",
   "name": "python3"
  },
  "language_info": {
   "codemirror_mode": {
    "name": "ipython",
    "version": 3
   },
   "file_extension": ".py",
   "mimetype": "text/x-python",
   "name": "python",
   "nbconvert_exporter": "python",
   "pygments_lexer": "ipython3",
   "version": "3.6.5"
  }
 },
 "nbformat": 4,
 "nbformat_minor": 2
}
